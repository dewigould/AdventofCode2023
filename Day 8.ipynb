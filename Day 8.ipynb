{
 "cells": [
  {
   "cell_type": "code",
   "execution_count": 913,
   "metadata": {
    "collapsed": true
   },
   "outputs": [],
   "source": [
    "from collections import defaultdict\n",
    "from collections import Counter\n",
    "import math"
   ]
  },
  {
   "cell_type": "code",
   "execution_count": 914,
   "metadata": {},
   "outputs": [],
   "source": [
    "with open('day8.txt') as f:\n",
    "    lines = [line for line in f]   "
   ]
  },
  {
   "cell_type": "code",
   "execution_count": 915,
   "metadata": {
    "collapsed": true
   },
   "outputs": [],
   "source": [
    "part_one = False"
   ]
  },
  {
   "cell_type": "code",
   "execution_count": 916,
   "metadata": {},
   "outputs": [],
   "source": [
    "instructions = lines[0]\n",
    "mapping = {\"L\":0,\"R\":1}\n",
    "instructions = [mapping[i] for i in instructions if i in mapping.keys()]\n",
    "#instructions"
   ]
  },
  {
   "cell_type": "code",
   "execution_count": 917,
   "metadata": {},
   "outputs": [],
   "source": [
    "rules = defaultdict(tuple)\n",
    "for rule in lines[2:]:\n",
    "    key,value = rule.split(\" = \")\n",
    "    \n",
    "    first_step = value.split(\"(\")[1].split(\",\")\n",
    "    value_one = first_step[0]\n",
    "    value_two = first_step[1].split(\")\")[0][1:]\n",
    "    rules[key]=(value_one,value_two)\n",
    "#rules"
   ]
  },
  {
   "cell_type": "code",
   "execution_count": 918,
   "metadata": {},
   "outputs": [
    {
     "data": {
      "text/plain": [
       "['BNZ', 'MGZ', 'BKZ', 'ZZZ', 'SSZ', 'TQZ']"
      ]
     },
     "execution_count": 918,
     "metadata": {},
     "output_type": "execute_result"
    }
   ],
   "source": [
    "finish_nodes = [i for i in rules.keys() if i[2]==\"Z\"]\n",
    "finish_nodes"
   ]
  },
  {
   "cell_type": "code",
   "execution_count": 919,
   "metadata": {},
   "outputs": [],
   "source": [
    "class Walker:\n",
    "    \n",
    "    def __init__(self,initial_state):\n",
    "        self.state = initial_state\n",
    "        self.num_moves = 0\n",
    "        self.status = \"not finished\"\n",
    "                \n",
    "    def update_state(self,move):\n",
    "        self.state = rules[self.state][move]\n",
    "        self.num_moves +=1\n",
    "        \n",
    "        if part_one:\n",
    "            if self.state == \"ZZZ\":\n",
    "                self.status = \"finished\"\n",
    "                \n",
    "        else:\n",
    "            if self.state[2] == \"Z\":\n",
    "                self.status = \"finished\"\n",
    "            \n",
    "        if part_one:\n",
    "            if self.state != \"ZZZ\":\n",
    "                self.status = \"not finished\"\n",
    "        else:\n",
    "            if self.state[2] != \"Z\":\n",
    "                self.status = \"not finished\"\n",
    "\n",
    "        \n",
    "    \n",
    "    def get_state(self):\n",
    "        return self.state"
   ]
  },
  {
   "cell_type": "code",
   "execution_count": 920,
   "metadata": {},
   "outputs": [],
   "source": [
    "if part_one:\n",
    "    agent = Walker(\"AAA\")\n",
    "    status = \"not finished\"\n",
    "    j=0\n",
    "    while status != \"finished\":\n",
    "        agent.update_state(instructions[j])\n",
    "        if j< len(instructions)-1:\n",
    "            j +=1\n",
    "        else:\n",
    "            j=0\n",
    "        if agent.status == \"finished\":\n",
    "            print(\"Finished in\", agent.num_moves)\n",
    "            break\n",
    "\n"
   ]
  },
  {
   "cell_type": "code",
   "execution_count": 921,
   "metadata": {},
   "outputs": [
    {
     "data": {
      "text/plain": [
       "['BFA', 'AAA', 'DFA', 'XFA', 'QJA', 'SBA']"
      ]
     },
     "execution_count": 921,
     "metadata": {},
     "output_type": "execute_result"
    }
   ],
   "source": [
    "starting_nodes = [i for i in rules.keys() if i[2]==\"A\"]\n",
    "starting_nodes"
   ]
  },
  {
   "cell_type": "code",
   "execution_count": 922,
   "metadata": {},
   "outputs": [
    {
     "data": {
      "text/plain": [
       "['BNZ', 'MGZ', 'BKZ', 'ZZZ', 'SSZ', 'TQZ']"
      ]
     },
     "execution_count": 922,
     "metadata": {},
     "output_type": "execute_result"
    }
   ],
   "source": [
    "finish_nodes = [i for i in rules.keys() if i[2]==\"Z\"]\n",
    "finish_nodes"
   ]
  },
  {
   "cell_type": "code",
   "execution_count": 923,
   "metadata": {},
   "outputs": [],
   "source": [
    "#rules"
   ]
  },
  {
   "cell_type": "code",
   "execution_count": 924,
   "metadata": {},
   "outputs": [
    {
     "data": {
      "text/plain": [
       "269"
      ]
     },
     "execution_count": 924,
     "metadata": {},
     "output_type": "execute_result"
    }
   ],
   "source": [
    "len(instructions)"
   ]
  },
  {
   "cell_type": "code",
   "execution_count": null,
   "metadata": {
    "collapsed": true
   },
   "outputs": [],
   "source": []
  },
  {
   "cell_type": "markdown",
   "metadata": {},
   "source": [
    "## Part 2\n"
   ]
  },
  {
   "cell_type": "code",
   "execution_count": 925,
   "metadata": {
    "collapsed": true
   },
   "outputs": [],
   "source": [
    "def get_num_moves(start,instruction_point):\n",
    "    agent = Walker(start)\n",
    "    status = \"not finished\"\n",
    "    j=instruction_point\n",
    "    \n",
    "    while status != \"finished\":\n",
    "        agent.update_state(instructions[j])\n",
    "        if j< len(instructions)-1:\n",
    "            j +=1\n",
    "        else:\n",
    "            j=0\n",
    "        if agent.status == \"finished\":\n",
    "            return(agent.num_moves,agent.state)\n",
    "            break\n",
    "\n"
   ]
  },
  {
   "cell_type": "code",
   "execution_count": null,
   "metadata": {},
   "outputs": [],
   "source": []
  },
  {
   "cell_type": "code",
   "execution_count": null,
   "metadata": {},
   "outputs": [],
   "source": []
  },
  {
   "cell_type": "code",
   "execution_count": 948,
   "metadata": {},
   "outputs": [],
   "source": [
    "# Distances to first finish node\n",
    "\n",
    "starting_nodes = [i for i in rules.keys() if i[2]==\"A\"]\n",
    "\n",
    "\n",
    "first_state = []\n",
    "for start in starting_nodes:\n",
    "    result = get_num_moves(start,0)\n",
    "    first_state.append(result)\n",
    "    \n",
    "\n"
   ]
  },
  {
   "cell_type": "code",
   "execution_count": 949,
   "metadata": {},
   "outputs": [
    {
     "data": {
      "text/plain": [
       "[(19637, 'MGZ'),\n",
       " (18023, 'ZZZ'),\n",
       " (21251, 'TQZ'),\n",
       " (16409, 'BKZ'),\n",
       " (11567, 'BNZ'),\n",
       " (14257, 'SSZ')]"
      ]
     },
     "execution_count": 949,
     "metadata": {},
     "output_type": "execute_result"
    }
   ],
   "source": [
    "first_state = first_state\n",
    "first_state"
   ]
  },
  {
   "cell_type": "markdown",
   "metadata": {},
   "source": [
    "## Notice that all first states are multiples of 269, the sequence repeats immediately for each starting position. So all we have to do is find LCM(n_1,n_2,...,n_6)"
   ]
  },
  {
   "cell_type": "code",
   "execution_count": 954,
   "metadata": {
    "collapsed": true
   },
   "outputs": [],
   "source": [
    "def lcm(a,b):\n",
    "    return (a*b)/math.gcd(a,b)"
   ]
  },
  {
   "cell_type": "code",
   "execution_count": 955,
   "metadata": {
    "collapsed": true
   },
   "outputs": [],
   "source": [
    "numbers = [i[0] for i in first_state]"
   ]
  },
  {
   "cell_type": "code",
   "execution_count": 976,
   "metadata": {},
   "outputs": [],
   "source": [
    "def lcm_list(input_list):\n",
    "    answer = 1\n",
    "    for i in input_list:\n",
    "        answer = int(lcm(answer,i))\n",
    "    return(answer)"
   ]
  },
  {
   "cell_type": "code",
   "execution_count": 977,
   "metadata": {},
   "outputs": [
    {
     "data": {
      "text/plain": [
       "14449445933179"
      ]
     },
     "execution_count": 977,
     "metadata": {},
     "output_type": "execute_result"
    }
   ],
   "source": [
    "lcm_list(numbers)"
   ]
  },
  {
   "cell_type": "code",
   "execution_count": null,
   "metadata": {
    "collapsed": true
   },
   "outputs": [],
   "source": []
  }
 ],
 "metadata": {
  "kernelspec": {
   "display_name": "Python (jennyenv)",
   "language": "python",
   "name": "jennyenv"
  },
  "language_info": {
   "codemirror_mode": {
    "name": "ipython",
    "version": 3
   },
   "file_extension": ".py",
   "mimetype": "text/x-python",
   "name": "python",
   "nbconvert_exporter": "python",
   "pygments_lexer": "ipython3",
   "version": "3.8.18"
  }
 },
 "nbformat": 4,
 "nbformat_minor": 2
}
