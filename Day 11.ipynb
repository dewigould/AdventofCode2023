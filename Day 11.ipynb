{
 "cells": [
  {
   "cell_type": "code",
   "execution_count": 239,
   "metadata": {
    "collapsed": true
   },
   "outputs": [],
   "source": [
    "import numpy as np\n",
    "from itertools import combinations"
   ]
  },
  {
   "cell_type": "code",
   "execution_count": 240,
   "metadata": {
    "collapsed": true
   },
   "outputs": [],
   "source": [
    "with open('day11.txt') as f:\n",
    "    lines = [line for line in f]   "
   ]
  },
  {
   "cell_type": "code",
   "execution_count": 241,
   "metadata": {},
   "outputs": [],
   "source": [
    "starmap = []\n",
    "size_row = len(lines[0])\n",
    "for line in lines:\n",
    "    row = [line[i] for i in range(size_row-1)]\n",
    "    starmap.append(row)"
   ]
  },
  {
   "cell_type": "code",
   "execution_count": 242,
   "metadata": {},
   "outputs": [],
   "source": [
    "#starmap"
   ]
  },
  {
   "cell_type": "code",
   "execution_count": 243,
   "metadata": {
    "collapsed": true
   },
   "outputs": [],
   "source": [
    "starmap_expanded = []\n",
    "# Expand in row direction\n",
    "for i in range(len(starmap)):\n",
    "    starmap_expanded.append(starmap[i])\n",
    "    if all([ele == '.' for ele in starmap[i]]):\n",
    "        starmap_expanded.append(starmap[i]) "
   ]
  },
  {
   "cell_type": "code",
   "execution_count": 244,
   "metadata": {},
   "outputs": [],
   "source": [
    "#Transpose to do the same again to the columns\n",
    "starmap_expanded = np.array(starmap_expanded)\n",
    "starmap_expanded = np.transpose(starmap_expanded)\n",
    "starmap_expanded = list(starmap_expanded)"
   ]
  },
  {
   "cell_type": "code",
   "execution_count": 245,
   "metadata": {
    "collapsed": true
   },
   "outputs": [],
   "source": [
    "starmap_expanded_again = []\n",
    "# Expand in row direction\n",
    "for i in range(len(starmap_expanded)):\n",
    "    starmap_expanded_again.append(starmap_expanded[i])\n",
    "    if all([ele == '.' for ele in starmap_expanded[i]]):\n",
    "        starmap_expanded_again.append(starmap_expanded[i]) "
   ]
  },
  {
   "cell_type": "code",
   "execution_count": 246,
   "metadata": {
    "collapsed": true
   },
   "outputs": [],
   "source": [
    "final_starmap = np.transpose(starmap_expanded_again)\n",
    "final_starmap = list(final_starmap)\n",
    "final_starmap = [list(i) for i in final_starmap]"
   ]
  },
  {
   "cell_type": "code",
   "execution_count": 247,
   "metadata": {},
   "outputs": [],
   "source": [
    "#final_starmap"
   ]
  },
  {
   "cell_type": "code",
   "execution_count": 248,
   "metadata": {},
   "outputs": [],
   "source": [
    "# find all stars\n",
    "stars = []\n",
    "for i in range(len(final_starmap)):\n",
    "    for j in range(len(final_starmap[0])):\n",
    "        if final_starmap[i][j]==\"#\":\n",
    "            stars.append((i,j))\n",
    "#stars"
   ]
  },
  {
   "cell_type": "code",
   "execution_count": 249,
   "metadata": {},
   "outputs": [],
   "source": [
    "# Find all pairs\n",
    "star_pairs = list(combinations(stars,2))"
   ]
  },
  {
   "cell_type": "code",
   "execution_count": 250,
   "metadata": {
    "collapsed": true
   },
   "outputs": [],
   "source": [
    "# Get distance between two stars\n",
    "def distance(a,b):\n",
    "    return abs(a[0]-b[0])+abs(a[1]-b[1])"
   ]
  },
  {
   "cell_type": "code",
   "execution_count": 251,
   "metadata": {
    "collapsed": true
   },
   "outputs": [],
   "source": [
    "distances = []\n",
    "for pair in star_pairs:\n",
    "    distances.append(distance(pair[0],pair[1]))"
   ]
  },
  {
   "cell_type": "code",
   "execution_count": 252,
   "metadata": {},
   "outputs": [],
   "source": [
    "#distances"
   ]
  },
  {
   "cell_type": "code",
   "execution_count": 253,
   "metadata": {},
   "outputs": [
    {
     "data": {
      "text/plain": [
       "374"
      ]
     },
     "execution_count": 253,
     "metadata": {},
     "output_type": "execute_result"
    }
   ],
   "source": [
    "sum(distances)"
   ]
  },
  {
   "cell_type": "code",
   "execution_count": null,
   "metadata": {
    "collapsed": true
   },
   "outputs": [],
   "source": []
  },
  {
   "cell_type": "markdown",
   "metadata": {},
   "source": [
    "## Part 2"
   ]
  },
  {
   "cell_type": "code",
   "execution_count": 254,
   "metadata": {
    "collapsed": true
   },
   "outputs": [],
   "source": [
    "starmap = []\n",
    "size_row = len(lines[0])\n",
    "for line in lines:\n",
    "    row = [line[i] for i in range(size_row-1)]\n",
    "    starmap.append(row)"
   ]
  },
  {
   "cell_type": "code",
   "execution_count": 255,
   "metadata": {},
   "outputs": [
    {
     "data": {
      "text/plain": [
       "[['.', '.', '.', '#', '.', '.', '.', '.', '.', '.'],\n",
       " ['.', '.', '.', '.', '.', '.', '.', '#', '.', '.'],\n",
       " ['#', '.', '.', '.', '.', '.', '.', '.', '.', '.'],\n",
       " ['.', '.', '.', '.', '.', '.', '.', '.', '.', '.'],\n",
       " ['.', '.', '.', '.', '.', '.', '#', '.', '.', '.'],\n",
       " ['.', '#', '.', '.', '.', '.', '.', '.', '.', '.'],\n",
       " ['.', '.', '.', '.', '.', '.', '.', '.', '.', '#'],\n",
       " ['.', '.', '.', '.', '.', '.', '.', '.', '.', '.'],\n",
       " ['.', '.', '.', '.', '.', '.', '.', '#', '.', '.'],\n",
       " ['#', '.', '.', '.', '#', '.', '.', '.', '.', '.']]"
      ]
     },
     "execution_count": 255,
     "metadata": {},
     "output_type": "execute_result"
    }
   ],
   "source": [
    "#starmap"
   ]
  },
  {
   "cell_type": "code",
   "execution_count": 256,
   "metadata": {
    "collapsed": true
   },
   "outputs": [],
   "source": [
    "# Just find locations of rows and cols which need to be expanded, but don't do the expansion\n",
    "rows = []\n",
    "# Expand in row direction\n",
    "for i in range(len(starmap)):\n",
    "    if all([ele == '.' for ele in starmap[i]]):\n",
    "        rows.append(i)"
   ]
  },
  {
   "cell_type": "code",
   "execution_count": 257,
   "metadata": {},
   "outputs": [
    {
     "data": {
      "text/plain": [
       "[3, 7]"
      ]
     },
     "execution_count": 257,
     "metadata": {},
     "output_type": "execute_result"
    }
   ],
   "source": [
    "rows"
   ]
  },
  {
   "cell_type": "code",
   "execution_count": 258,
   "metadata": {},
   "outputs": [
    {
     "data": {
      "text/plain": [
       "[2, 5, 8]"
      ]
     },
     "execution_count": 258,
     "metadata": {},
     "output_type": "execute_result"
    }
   ],
   "source": [
    "starmap = np.array(starmap)\n",
    "starmap = np.transpose(starmap)\n",
    "starmap = list(starmap)\n",
    "\n",
    "cols = []\n",
    "# Expand in row direction\n",
    "for i in range(len(starmap)):\n",
    "    if all([ele == '.' for ele in starmap[i]]):\n",
    "        cols.append(i)\n",
    "starmap = np.array(starmap)\n",
    "starmap = np.transpose(starmap)\n",
    "starmap = list(starmap)\n",
    "starmap = [list(i) for i in starmap]\n",
    "cols\n"
   ]
  },
  {
   "cell_type": "code",
   "execution_count": 259,
   "metadata": {},
   "outputs": [
    {
     "data": {
      "text/plain": [
       "[['.', '.', '.', '#', '.', '.', '.', '.', '.', '.'],\n",
       " ['.', '.', '.', '.', '.', '.', '.', '#', '.', '.'],\n",
       " ['#', '.', '.', '.', '.', '.', '.', '.', '.', '.'],\n",
       " ['.', '.', '.', '.', '.', '.', '.', '.', '.', '.'],\n",
       " ['.', '.', '.', '.', '.', '.', '#', '.', '.', '.'],\n",
       " ['.', '#', '.', '.', '.', '.', '.', '.', '.', '.'],\n",
       " ['.', '.', '.', '.', '.', '.', '.', '.', '.', '#'],\n",
       " ['.', '.', '.', '.', '.', '.', '.', '.', '.', '.'],\n",
       " ['.', '.', '.', '.', '.', '.', '.', '#', '.', '.'],\n",
       " ['#', '.', '.', '.', '#', '.', '.', '.', '.', '.']]"
      ]
     },
     "execution_count": 259,
     "metadata": {},
     "output_type": "execute_result"
    }
   ],
   "source": [
    "#starmap"
   ]
  },
  {
   "cell_type": "code",
   "execution_count": 260,
   "metadata": {
    "collapsed": true
   },
   "outputs": [],
   "source": [
    "stars = []\n",
    "for i in range(len(starmap)):\n",
    "    for j in range(len(starmap[0])):\n",
    "        if starmap[i][j]==\"#\":\n",
    "            stars.append((i,j))"
   ]
  },
  {
   "cell_type": "code",
   "execution_count": 261,
   "metadata": {},
   "outputs": [
    {
     "data": {
      "text/plain": [
       "[(0, 3), (1, 7), (2, 0), (4, 6), (5, 1), (6, 9), (8, 7), (9, 0), (9, 4)]"
      ]
     },
     "execution_count": 261,
     "metadata": {},
     "output_type": "execute_result"
    }
   ],
   "source": [
    "#stars"
   ]
  },
  {
   "cell_type": "code",
   "execution_count": 262,
   "metadata": {
    "collapsed": true
   },
   "outputs": [],
   "source": [
    "def update_location(star):\n",
    "    x_star,y_star = star\n",
    "    for j in rows:\n",
    "        if j<= star[0]:\n",
    "            x_star = x_star + 1000000-1\n",
    "    for j in cols:\n",
    "        if j<= star[1]:\n",
    "            y_star = y_star + 1000000-1\n",
    "    return x_star,y_star"
   ]
  },
  {
   "cell_type": "code",
   "execution_count": 263,
   "metadata": {
    "collapsed": true
   },
   "outputs": [],
   "source": [
    "stars = [update_location(i) for i in stars]"
   ]
  },
  {
   "cell_type": "code",
   "execution_count": 264,
   "metadata": {},
   "outputs": [
    {
     "data": {
      "text/plain": [
       "[(0, 12),\n",
       " (1, 25),\n",
       " (2, 0),\n",
       " (13, 24),\n",
       " (14, 1),\n",
       " (15, 36),\n",
       " (26, 25),\n",
       " (27, 0),\n",
       " (27, 13)]"
      ]
     },
     "execution_count": 264,
     "metadata": {},
     "output_type": "execute_result"
    }
   ],
   "source": [
    "#stars"
   ]
  },
  {
   "cell_type": "code",
   "execution_count": 265,
   "metadata": {},
   "outputs": [
    {
     "data": {
      "text/plain": [
       "[((0, 12), (1, 25)),\n",
       " ((0, 12), (2, 0)),\n",
       " ((0, 12), (13, 24)),\n",
       " ((0, 12), (14, 1)),\n",
       " ((0, 12), (15, 36)),\n",
       " ((0, 12), (26, 25)),\n",
       " ((0, 12), (27, 0)),\n",
       " ((0, 12), (27, 13)),\n",
       " ((1, 25), (2, 0)),\n",
       " ((1, 25), (13, 24)),\n",
       " ((1, 25), (14, 1)),\n",
       " ((1, 25), (15, 36)),\n",
       " ((1, 25), (26, 25)),\n",
       " ((1, 25), (27, 0)),\n",
       " ((1, 25), (27, 13)),\n",
       " ((2, 0), (13, 24)),\n",
       " ((2, 0), (14, 1)),\n",
       " ((2, 0), (15, 36)),\n",
       " ((2, 0), (26, 25)),\n",
       " ((2, 0), (27, 0)),\n",
       " ((2, 0), (27, 13)),\n",
       " ((13, 24), (14, 1)),\n",
       " ((13, 24), (15, 36)),\n",
       " ((13, 24), (26, 25)),\n",
       " ((13, 24), (27, 0)),\n",
       " ((13, 24), (27, 13)),\n",
       " ((14, 1), (15, 36)),\n",
       " ((14, 1), (26, 25)),\n",
       " ((14, 1), (27, 0)),\n",
       " ((14, 1), (27, 13)),\n",
       " ((15, 36), (26, 25)),\n",
       " ((15, 36), (27, 0)),\n",
       " ((15, 36), (27, 13)),\n",
       " ((26, 25), (27, 0)),\n",
       " ((26, 25), (27, 13)),\n",
       " ((27, 0), (27, 13))]"
      ]
     },
     "execution_count": 265,
     "metadata": {},
     "output_type": "execute_result"
    }
   ],
   "source": [
    "star_pairs = list(combinations(stars,2))\n",
    "#star_pairs"
   ]
  },
  {
   "cell_type": "code",
   "execution_count": 266,
   "metadata": {
    "collapsed": true
   },
   "outputs": [],
   "source": [
    "distances = []\n",
    "for pair in star_pairs:\n",
    "    distances.append(distance(pair[0],pair[1]))"
   ]
  },
  {
   "cell_type": "code",
   "execution_count": 267,
   "metadata": {},
   "outputs": [
    {
     "data": {
      "text/plain": [
       "1030"
      ]
     },
     "execution_count": 267,
     "metadata": {},
     "output_type": "execute_result"
    }
   ],
   "source": [
    "sum(distances)"
   ]
  },
  {
   "cell_type": "code",
   "execution_count": null,
   "metadata": {
    "collapsed": true
   },
   "outputs": [],
   "source": []
  }
 ],
 "metadata": {
  "kernelspec": {
   "display_name": "Python (jennyenv)",
   "language": "python",
   "name": "jennyenv"
  },
  "language_info": {
   "codemirror_mode": {
    "name": "ipython",
    "version": 3
   },
   "file_extension": ".py",
   "mimetype": "text/x-python",
   "name": "python",
   "nbconvert_exporter": "python",
   "pygments_lexer": "ipython3",
   "version": "3.8.18"
  }
 },
 "nbformat": 4,
 "nbformat_minor": 2
}
