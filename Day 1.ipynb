{
 "cells": [
  {
   "cell_type": "markdown",
   "metadata": {},
   "source": [
    "## Day 1"
   ]
  },
  {
   "cell_type": "code",
   "execution_count": 70,
   "metadata": {
    "collapsed": true
   },
   "outputs": [],
   "source": [
    "import re"
   ]
  },
  {
   "cell_type": "code",
   "execution_count": 76,
   "metadata": {
    "collapsed": true
   },
   "outputs": [],
   "source": [
    "with open('day1.txt') as f:\n",
    "    lines = [line for line in f]   "
   ]
  },
  {
   "cell_type": "code",
   "execution_count": 77,
   "metadata": {},
   "outputs": [],
   "source": [
    "count=0\n",
    "for line in lines:\n",
    "    numbers=re.findall(r'\\d+', line)\n",
    "    first_num = numbers[0]\n",
    "    last_num = numbers[-1]\n",
    "    combined = first_num[0]+last_num[-1]\n",
    "    count += int(combined)"
   ]
  },
  {
   "cell_type": "code",
   "execution_count": 78,
   "metadata": {},
   "outputs": [
    {
     "name": "stdout",
     "output_type": "stream",
     "text": [
      "54601\n"
     ]
    }
   ],
   "source": [
    "print(count)"
   ]
  },
  {
   "cell_type": "code",
   "execution_count": null,
   "metadata": {
    "collapsed": true
   },
   "outputs": [],
   "source": []
  },
  {
   "cell_type": "markdown",
   "metadata": {},
   "source": [
    "## Part 2\n",
    "- had to add much more structure to account for the fact that a word might appear twice"
   ]
  },
  {
   "cell_type": "code",
   "execution_count": 90,
   "metadata": {},
   "outputs": [],
   "source": [
    "numbers = ['zero','one','two','three','four','five','six','seven','eight','nine',\n",
    "          '1','2','3','4','5','6','7','8','9','0']\n",
    "string_nums = ['1','2','3','4','5','6','7','8','9','0']\n",
    "mapping = {'zero':'0','one':'1','two':'2','three':'3','four':'4','five':'5','six':'6',\n",
    "          'seven':'7','eight':'8','nine':'9'}\n"
   ]
  },
  {
   "cell_type": "code",
   "execution_count": 99,
   "metadata": {},
   "outputs": [],
   "source": [
    "def find_all_substring_indices(main_string, substring):\n",
    "    \"\"\"Give indices where all strings in substring appear in main_string\n",
    "    \"\"\"\n",
    "    indices = [index for index in range(len(main_string) - len(substring) + 1) if main_string[index:index + len(substring)] == substring]\n",
    "    return indices\n",
    "\n",
    "def get_earliest_instance(instances):\n",
    "    \"\"\"Out of the above, in the cases where a substring occurs more than once\n",
    "    ...fix the above lists to only include the earliest instance of each substring\n",
    "    \"\"\"\n",
    "    instance = []\n",
    "    for i in instances:\n",
    "        instance.append(min(i))\n",
    "    return instance\n",
    "    \n",
    "def get_latest_instance(instances):\n",
    "    \"\"\"Same as the above, but this time for latest occurence\n",
    "    \"\"\"\n",
    "    instance = []\n",
    "    for i in instances:\n",
    "        instance.append(max(i))\n",
    "    return instance\n",
    "    \n",
    "\n",
    "\n",
    "def find_first_and_last(list_string, input_string):\n",
    "    instances = [s for s in list_string if s in input_string]\n",
    "    instances_indices = [find_all_substring_indices(input_string,i) for i in instances]\n",
    "\n",
    "    earliest= get_earliest_instance(instances_indices)\n",
    "    latest = get_latest_instance(instances_indices)\n",
    "\n",
    "    first_num = instances[earliest.index(min(earliest))]\n",
    "    last_num = instances[latest.index(max(latest))]\n",
    "    return first_num,last_num\n",
    "\n"
   ]
  },
  {
   "cell_type": "code",
   "execution_count": 105,
   "metadata": {},
   "outputs": [],
   "source": [
    "count=0\n",
    "for line in lines:\n",
    "    first_num,last_num = find_first_and_last(numbers,line)\n",
    "\n",
    "    if first_num not in string_nums:\n",
    "        first_num = mapping[first_num]\n",
    "    if last_num not in string_nums:\n",
    "        last_num = mapping[last_num]\n",
    "    \n",
    "\n",
    "    combined_num = first_num + last_num\n",
    "    count += int(combined_num)\n"
   ]
  },
  {
   "cell_type": "code",
   "execution_count": 104,
   "metadata": {},
   "outputs": [
    {
     "data": {
      "text/plain": [
       "54078"
      ]
     },
     "execution_count": 104,
     "metadata": {},
     "output_type": "execute_result"
    }
   ],
   "source": [
    "count"
   ]
  },
  {
   "cell_type": "code",
   "execution_count": null,
   "metadata": {
    "collapsed": true
   },
   "outputs": [],
   "source": []
  }
 ],
 "metadata": {
  "kernelspec": {
   "display_name": "Python (jennyenv)",
   "language": "python",
   "name": "jennyenv"
  },
  "language_info": {
   "codemirror_mode": {
    "name": "ipython",
    "version": 3
   },
   "file_extension": ".py",
   "mimetype": "text/x-python",
   "name": "python",
   "nbconvert_exporter": "python",
   "pygments_lexer": "ipython3",
   "version": "3.8.18"
  }
 },
 "nbformat": 4,
 "nbformat_minor": 2
}
