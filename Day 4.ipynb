{
 "cells": [
  {
   "cell_type": "code",
   "execution_count": 1061,
   "metadata": {
    "collapsed": true
   },
   "outputs": [],
   "source": [
    "import numpy as np\n",
    "from numpy.linalg import matrix_power"
   ]
  },
  {
   "cell_type": "code",
   "execution_count": 1062,
   "metadata": {
    "collapsed": true
   },
   "outputs": [],
   "source": [
    "with open('day4.txt') as f:\n",
    "    lines = [line for line in f]   "
   ]
  },
  {
   "cell_type": "code",
   "execution_count": 1063,
   "metadata": {
    "collapsed": true
   },
   "outputs": [],
   "source": [
    "def compute_num_overlaps(winning_nums, my_nums):\n",
    "    count=0\n",
    "    for j in my_nums:\n",
    "        if j in winning_nums:\n",
    "             count +=1\n",
    "    return count"
   ]
  },
  {
   "cell_type": "code",
   "execution_count": 1064,
   "metadata": {},
   "outputs": [],
   "source": [
    "score = 0\n",
    "\n",
    "num_matches = []\n",
    "for line in lines:\n",
    "    # Crop until after colon\n",
    "    split_by_colon = line.split(\":\")[1]\n",
    "\n",
    "    # Split in two by vertical line\n",
    "    split_by_line = split_by_colon.split(\"|\")\n",
    "\n",
    "    # Get list of numbers in each case (check if unique -- try later is breaks?)\n",
    "    winning_numbers = split_by_line[0].split(\" \")\n",
    "    my_numbers = split_by_line[1].split(\" \")\n",
    "    \n",
    "    #remove some blank spaces\n",
    "    winning_numbers = [int(i) for i in winning_numbers if i!= \"\"]\n",
    "    my_numbers = [int(i) for i in my_numbers if i!= \"\"]\n",
    "    \n",
    "    #compute num overlaps\n",
    "    num_overlaps = compute_num_overlaps(winning_numbers, my_numbers)\n",
    "    \n",
    "    num_matches.append(num_overlaps)\n",
    "    \n",
    "    # Compute score\n",
    "    if num_overlaps !=0:\n",
    "        score += 2**(num_overlaps-1)\n",
    "    \n"
   ]
  },
  {
   "cell_type": "code",
   "execution_count": 1065,
   "metadata": {},
   "outputs": [
    {
     "data": {
      "text/plain": [
       "20407"
      ]
     },
     "execution_count": 1065,
     "metadata": {},
     "output_type": "execute_result"
    }
   ],
   "source": [
    "score"
   ]
  },
  {
   "cell_type": "code",
   "execution_count": null,
   "metadata": {
    "collapsed": true
   },
   "outputs": [],
   "source": []
  },
  {
   "cell_type": "markdown",
   "metadata": {},
   "source": [
    "## Part 2"
   ]
  },
  {
   "cell_type": "markdown",
   "metadata": {},
   "source": [
    "### Methodology:\n",
    "- Construct an \"action matrix\" for each card. \n",
    "- Acting with the ith matrix on the vector representing the number of cards of each type will update the status of the number cards to the next number\n",
    "- acting with each matrix in turn on the initial number of cards (1,1,1,...1) will give a vector with all the number of cards\n",
    "- the sum of these entries is the final anwer."
   ]
  },
  {
   "cell_type": "code",
   "execution_count": 1067,
   "metadata": {},
   "outputs": [
    {
     "data": {
      "text/plain": [
       "array([[0., 1., 1., ..., 0., 0., 0.],\n",
       "       [0., 0., 1., ..., 0., 0., 0.],\n",
       "       [0., 0., 0., ..., 0., 0., 0.],\n",
       "       ...,\n",
       "       [0., 0., 0., ..., 0., 1., 0.],\n",
       "       [0., 0., 0., ..., 0., 0., 1.],\n",
       "       [0., 0., 0., ..., 0., 0., 0.]])"
      ]
     },
     "execution_count": 1067,
     "metadata": {},
     "output_type": "execute_result"
    }
   ],
   "source": [
    "action_matrix = np.zeros((len(num_matches),len(num_matches))) \n",
    "\n",
    "for i in range(len(num_matches)):\n",
    "    cards_to_distribute = num_matches[i]\n",
    "    for j in range(cards_to_distribute):\n",
    "        if i+j+1 < len(num_matches):\n",
    "            action_matrix[i][i+j+1] +=1\n",
    "        else:\n",
    "\n",
    "            carried_over_index = (i+j+1)%(len(num_matches)-i-1)\n",
    "\n",
    "            action_matrix[i][i+1+carried_over_index] +=1\n",
    "\n",
    "#The ith row of actio matrix represents the new cards that one ith card creates.\n",
    "action_matrix    "
   ]
  },
  {
   "cell_type": "code",
   "execution_count": 1068,
   "metadata": {},
   "outputs": [],
   "source": [
    "num_cards = np.array([1]*len(num_matches))\n",
    "\n",
    "#In this step we take each row of the action matrix in turn, and act on the num_cards vector with it.\n",
    "for j in range(len(num_matches)):\n",
    "    \n",
    "    empty_matrix = np.identity(len(num_matches))\n",
    "    \n",
    "    \n",
    "    if j!=0:\n",
    "        empty_matrix[j] = action_matrix[j]\n",
    "\n",
    "    if j==0:\n",
    "        empty_matrix[j] = action_matrix[j]\n",
    "    \n",
    "    for k in range(len(num_matches)):\n",
    "        if empty_matrix[k][k] ==0:\n",
    "            empty_matrix[k][k]=1\n",
    "            \n",
    "    num_cards = np.dot(num_cards,empty_matrix)\n"
   ]
  },
  {
   "cell_type": "code",
   "execution_count": 1069,
   "metadata": {},
   "outputs": [
    {
     "data": {
      "text/plain": [
       "23806951"
      ]
     },
     "execution_count": 1069,
     "metadata": {},
     "output_type": "execute_result"
    }
   ],
   "source": [
    "int(sum(num_cards))"
   ]
  },
  {
   "cell_type": "code",
   "execution_count": null,
   "metadata": {
    "collapsed": true
   },
   "outputs": [],
   "source": []
  }
 ],
 "metadata": {
  "kernelspec": {
   "display_name": "Python (jennyenv)",
   "language": "python",
   "name": "jennyenv"
  },
  "language_info": {
   "codemirror_mode": {
    "name": "ipython",
    "version": 3
   },
   "file_extension": ".py",
   "mimetype": "text/x-python",
   "name": "python",
   "nbconvert_exporter": "python",
   "pygments_lexer": "ipython3",
   "version": "3.8.18"
  }
 },
 "nbformat": 4,
 "nbformat_minor": 2
}
