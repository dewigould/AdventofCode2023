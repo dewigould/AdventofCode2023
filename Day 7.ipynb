{
 "cells": [
  {
   "cell_type": "code",
   "execution_count": 615,
   "metadata": {
    "collapsed": true
   },
   "outputs": [],
   "source": [
    "from collections import Counter"
   ]
  },
  {
   "cell_type": "code",
   "execution_count": 616,
   "metadata": {
    "collapsed": true
   },
   "outputs": [],
   "source": [
    "with open('day7.txt') as f:\n",
    "    lines = [line for line in f]   "
   ]
  },
  {
   "cell_type": "code",
   "execution_count": 617,
   "metadata": {
    "collapsed": true
   },
   "outputs": [],
   "source": [
    "part_two = True"
   ]
  },
  {
   "cell_type": "code",
   "execution_count": 618,
   "metadata": {
    "collapsed": true
   },
   "outputs": [],
   "source": [
    "if part_two:\n",
    "    rankings = {\"A\":14,\"K\":13,\"Q\":12,\"J\":0,\n",
    "                \"T\":11,\"9\":10,\"8\":9,\"7\":8,\n",
    "                \"6\":7, \"5\":6, \"4\":5,\"3\":4,\n",
    "                \"2\":3}\n",
    "else:\n",
    "    rankings = {\"A\":14,\"K\":13,\"Q\":12,\"J\":11,\n",
    "            \"T\":10,\"9\":9,\"8\":8,\"7\":7,\n",
    "            \"6\":6, \"5\":5, \"4\":4,\"3\":3,\n",
    "            \"2\":2}"
   ]
  },
  {
   "cell_type": "code",
   "execution_count": 619,
   "metadata": {},
   "outputs": [],
   "source": [
    "# If the card contains a jack, we can use tricks to improve the hand, here are the rules:\n",
    "\n",
    "def find_jack_based_hand(hand):\n",
    "    current_score = get_score(hand)\n",
    "    counter = Counter(hand)\n",
    "    counts = list(counter.values())\n",
    "    \n",
    "    #can always use trick to get five of a kind if the original score is one of these\n",
    "    if current_score in [\"five_of_a_kind\",\"four_of_a_kind\",\"full_house\"]:\n",
    "        return \"AAAAA\"\n",
    "    if current_score == \"three_of_a_kind\":\n",
    "        if counter[\"J\"]==3:\n",
    "            return hand #no improvement\n",
    "        else: \n",
    "            #there must be only one J\n",
    "            return \"JJJJQ\" #some arbitrary four of a kind is the best we can do\n",
    "    if current_score == \"two_pair\":\n",
    "        if counter[\"J\"]==2:\n",
    "            return \"JJJJQ\" #some arbitrary four of a kind\n",
    "        if counter[\"J\"]==1:\n",
    "            return \"JJJQQ\" #full house is the best we can do\n",
    "    if current_score == \"one_pair\":\n",
    "            return \"JJJAB\" #arbitrary three of a kind\n",
    "    if current_score == \"high_card\":\n",
    "        return \"JJK23\" #best we can do is a pair\n",
    "        \n",
    "\n",
    "        \n",
    "    "
   ]
  },
  {
   "cell_type": "code",
   "execution_count": 620,
   "metadata": {
    "collapsed": true
   },
   "outputs": [],
   "source": [
    "# Compute score based on the hand, with option of improving things by fiddling with jacks if doing part 2\n",
    "\n",
    "def get_score(hand):\n",
    "\n",
    "    counter = Counter(hand)\n",
    "    counts = list(counter.values())\n",
    "    counts.sort()\n",
    "\n",
    "\n",
    "    score = \"high_card\"\n",
    "    \n",
    "    #Check if five of a kind:\n",
    "    if all([i==hand[0] for i in hand]):\n",
    "        score = \"five_of_a_kind\"\n",
    "    \n",
    "    #Check if four of a kind\n",
    "    elif counts == [1,4]:\n",
    "        score = \"four_of_a_kind\"\n",
    " \n",
    "    #Check if full house\n",
    "    elif counts == [2,3]:\n",
    "        score = \"full_house\"\n",
    "    \n",
    "    elif counts == [1,1,3]:\n",
    "        score = \"three_of_a_kind\"\n",
    "    #Check if two pair\n",
    "    elif counts == [1,2,2]:\n",
    "        score = \"two_pair\"\n",
    "        \n",
    "    #Check if one pair\n",
    "    elif counts == [1,1,1,2]:\n",
    "        score = \"one_pair\"\n",
    "        \n",
    "    else:\n",
    "        score = \"high_card\"\n",
    "    \n",
    "    return score    \n",
    "\n",
    "\n",
    "def determine_hand(hand):\n",
    "    # Find if five/four/three of a kind, full house, two pair, one pair or high card\n",
    "    \n",
    "    if part_two:\n",
    "        if \"J\" in hand:\n",
    "            hand = find_jack_based_hand(hand)\n",
    "            \n",
    "    return get_score(hand)\n",
    "    "
   ]
  },
  {
   "cell_type": "code",
   "execution_count": 621,
   "metadata": {
    "collapsed": true
   },
   "outputs": [],
   "source": [
    "# Find which card is higher ranked if they are of the same type.\n",
    "def distinguish_two_similar_hands(card_1,card_2):\n",
    "    for i in range(6):\n",
    "        if abs(rankings[card_1[i]]-rankings[card_2[i]])!=0:\n",
    "            if rankings[card_1[i]]>rankings[card_2[i]]:\n",
    "                return 0\n",
    "            else:\n",
    "                return 1\n",
    "        \n",
    "    \n",
    "mapping = {\"five_of_a_kind\":6,\"four_of_a_kind\":5,\"full_house\":4,\"three_of_a_kind\":3,\"two_pair\":2,\"one_pair\":1,\"high_card\":0}\n",
    "\n",
    "\n",
    "def determine_ranking(score_1,score_2):\n",
    "    if mapping[score_1] > mapping[score_2]:\n",
    "        return 0\n",
    "    else:\n",
    "        return 1\n",
    "\n",
    "# Find which card is higher ranked.\n",
    "def compare_two_cards(card_1,card_2):\n",
    "    score_one = determine_hand(card_1)\n",
    "    score_two = determine_hand(card_2)\n",
    "    \n",
    "    # if they are the same type of hand\n",
    "    if score_one == score_two:\n",
    "        return distinguish_two_similar_hands(card_1,card_2)\n",
    "    \n",
    "    else:\n",
    "        return determine_ranking(score_one,score_two)\n",
    "        \n",
    "        \n",
    "        \n",
    "        \n",
    "        "
   ]
  },
  {
   "cell_type": "code",
   "execution_count": null,
   "metadata": {
    "collapsed": true
   },
   "outputs": [],
   "source": []
  },
  {
   "cell_type": "code",
   "execution_count": 622,
   "metadata": {},
   "outputs": [],
   "source": [
    "# Build dataset of hands, bids, and the type of hand\n",
    "dataset = []\n",
    "for line in lines:\n",
    "    hand,bid=line.split(\" \")\n",
    "    bid = int(bid)\n",
    "    score = determine_hand(hand)\n",
    "    dataset.append((hand,score,mapping[score],bid))\n",
    "    "
   ]
  },
  {
   "cell_type": "code",
   "execution_count": 623,
   "metadata": {},
   "outputs": [],
   "source": [
    "dataset.sort(key = lambda x: x[2],reverse=True) #Sort based on score"
   ]
  },
  {
   "cell_type": "code",
   "execution_count": 624,
   "metadata": {
    "collapsed": true
   },
   "outputs": [],
   "source": [
    "def determine_rankings_amongst_same_scores(list_of_hands):\n",
    "    final_list = [list_of_hands[0]]\n",
    "    for hand in list_of_hands[1:]:\n",
    "        if distinguish_two_similar_hands(hand[0],final_list[0][0]) == 0:\n",
    "            final_list = [hand]+final_list\n",
    "        elif len(final_list)==1:\n",
    "            final_list = final_list +[hand]\n",
    "        else:\n",
    "            j=0\n",
    "            while j<=len(final_list)-1 and distinguish_two_similar_hands(hand[0],final_list[j][0])!=0:\n",
    "                j+=1\n",
    "            final_list = final_list[:j] + [hand] + final_list[j:]\n",
    "    return final_list"
   ]
  },
  {
   "cell_type": "code",
   "execution_count": 625,
   "metadata": {},
   "outputs": [],
   "source": [
    "# Sort by the type of hand\n",
    "collections = {6:[],5:[],4:[],3:[],2:[],1:[],0:[]}\n",
    "for data in dataset:\n",
    "    collections[data[2]].append(data)\n",
    "    "
   ]
  },
  {
   "cell_type": "code",
   "execution_count": null,
   "metadata": {},
   "outputs": [],
   "source": []
  },
  {
   "cell_type": "code",
   "execution_count": 626,
   "metadata": {},
   "outputs": [],
   "source": [
    "# Amongst each type of hand, update rankings based on how individual hands compare\n",
    "for i in range(7):\n",
    "    if len(collections[i])!=0:\n",
    "        collections[i] = determine_rankings_amongst_same_scores(collections[i])\n"
   ]
  },
  {
   "cell_type": "code",
   "execution_count": 627,
   "metadata": {},
   "outputs": [],
   "source": [
    "ranking = collections.values()\n",
    "ranking = [r for r in ranking if len(r)!=0]\n"
   ]
  },
  {
   "cell_type": "code",
   "execution_count": 628,
   "metadata": {},
   "outputs": [],
   "source": [
    "ranking = [item for sublist in ranking for item in sublist]\n"
   ]
  },
  {
   "cell_type": "code",
   "execution_count": 629,
   "metadata": {},
   "outputs": [],
   "source": [
    "ranking.reverse()"
   ]
  },
  {
   "cell_type": "code",
   "execution_count": 630,
   "metadata": {},
   "outputs": [
    {
     "data": {
      "text/plain": [
       "250057090"
      ]
     },
     "execution_count": 630,
     "metadata": {},
     "output_type": "execute_result"
    }
   ],
   "source": [
    "score = 0\n",
    "for i in range(len(ranking)):\n",
    "    score+= (i+1)*ranking[i][3]\n",
    "score\n",
    "    "
   ]
  },
  {
   "cell_type": "code",
   "execution_count": null,
   "metadata": {
    "collapsed": true
   },
   "outputs": [],
   "source": []
  }
 ],
 "metadata": {
  "kernelspec": {
   "display_name": "Python (jennyenv)",
   "language": "python",
   "name": "jennyenv"
  },
  "language_info": {
   "codemirror_mode": {
    "name": "ipython",
    "version": 3
   },
   "file_extension": ".py",
   "mimetype": "text/x-python",
   "name": "python",
   "nbconvert_exporter": "python",
   "pygments_lexer": "ipython3",
   "version": "3.8.18"
  }
 },
 "nbformat": 4,
 "nbformat_minor": 2
}
