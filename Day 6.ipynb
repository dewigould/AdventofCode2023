{
 "cells": [
  {
   "cell_type": "code",
   "execution_count": 160,
   "metadata": {
    "collapsed": true
   },
   "outputs": [],
   "source": [
    "import numpy as np\n",
    "import math"
   ]
  },
  {
   "cell_type": "code",
   "execution_count": 161,
   "metadata": {
    "collapsed": true
   },
   "outputs": [],
   "source": [
    "with open('day6.txt') as f:\n",
    "    lines = [line for line in f]   "
   ]
  },
  {
   "cell_type": "code",
   "execution_count": 162,
   "metadata": {},
   "outputs": [
    {
     "data": {
      "text/plain": [
       "['Time:        51     92     68     90\\n',\n",
       " 'Distance:   222   2031   1126   1225\\n']"
      ]
     },
     "execution_count": 162,
     "metadata": {},
     "output_type": "execute_result"
    }
   ],
   "source": [
    "lines"
   ]
  },
  {
   "cell_type": "code",
   "execution_count": 163,
   "metadata": {
    "collapsed": true
   },
   "outputs": [],
   "source": [
    "times = [51,92,68,90]\n",
    "distances = [222,2031,1126,1225]"
   ]
  },
  {
   "cell_type": "code",
   "execution_count": 164,
   "metadata": {
    "collapsed": true
   },
   "outputs": [],
   "source": [
    "test_times = [7,15,30]\n",
    "test_distances = [9,40,200]"
   ]
  },
  {
   "cell_type": "code",
   "execution_count": 165,
   "metadata": {
    "collapsed": true
   },
   "outputs": [],
   "source": [
    "# This one is easy: find the two solutions using physics.\n",
    "# Solve the quadratic equation governing whether or not the person covers the required distance.\n",
    "\n",
    "def find_limiting_time(t,d):\n",
    "    t_one = -(-t-np.sqrt(t**2-(4*d)))/(2)\n",
    "    t_two = -(-t+np.sqrt(t**2-(4*d)))/(2)\n",
    "    \n",
    "    floor_one = math.floor(t_one)\n",
    "    floor_two = math.ceil(t_two)\n",
    "    \n",
    "    if floor_one == t_one:\n",
    "        floor_one = floor_one -1\n",
    "    if floor_two == t_two:\n",
    "        floor_two = floor_two +1\n",
    "        \n",
    "\n",
    "    \n",
    "    return floor_one-floor_two+1"
   ]
  },
  {
   "cell_type": "code",
   "execution_count": 166,
   "metadata": {},
   "outputs": [
    {
     "name": "stdout",
     "output_type": "stream",
     "text": [
      "4 8 9\n"
     ]
    }
   ],
   "source": [
    "print(find_limiting_time(test_times[0],test_distances[0]),\n",
    "      find_limiting_time(test_times[1],test_distances[1]),\n",
    "      find_limiting_time(test_times[2],test_distances[2]))"
   ]
  },
  {
   "cell_type": "code",
   "execution_count": 171,
   "metadata": {},
   "outputs": [
    {
     "data": {
      "text/plain": [
       "288"
      ]
     },
     "execution_count": 171,
     "metadata": {},
     "output_type": "execute_result"
    }
   ],
   "source": [
    "4*8*9"
   ]
  },
  {
   "cell_type": "code",
   "execution_count": 167,
   "metadata": {},
   "outputs": [
    {
     "name": "stdout",
     "output_type": "stream",
     "text": [
      "42 19 11 57\n"
     ]
    }
   ],
   "source": [
    "print(find_limiting_time(times[0],distances[0]),\n",
    "      find_limiting_time(times[1],distances[1]),\n",
    "      find_limiting_time(times[2],distances[2]),\n",
    "      find_limiting_time(times[3],distances[3]),\n",
    "     )"
   ]
  },
  {
   "cell_type": "code",
   "execution_count": 168,
   "metadata": {},
   "outputs": [
    {
     "data": {
      "text/plain": [
       "500346"
      ]
     },
     "execution_count": 168,
     "metadata": {},
     "output_type": "execute_result"
    }
   ],
   "source": [
    "42*19*11*57"
   ]
  },
  {
   "cell_type": "code",
   "execution_count": null,
   "metadata": {
    "collapsed": true
   },
   "outputs": [],
   "source": []
  },
  {
   "cell_type": "markdown",
   "metadata": {},
   "source": [
    "## Part 2"
   ]
  },
  {
   "cell_type": "code",
   "execution_count": 169,
   "metadata": {},
   "outputs": [
    {
     "data": {
      "text/plain": [
       "71503"
      ]
     },
     "execution_count": 169,
     "metadata": {},
     "output_type": "execute_result"
    }
   ],
   "source": [
    "time_test = 71530\n",
    "distance_test = 940200\n",
    "find_limiting_time(time_test,distance_test)"
   ]
  },
  {
   "cell_type": "code",
   "execution_count": 170,
   "metadata": {},
   "outputs": [
    {
     "data": {
      "text/plain": [
       "42515755"
      ]
     },
     "execution_count": 170,
     "metadata": {},
     "output_type": "execute_result"
    }
   ],
   "source": [
    "time = 51926890\n",
    "distance = 222203111261225\n",
    "find_limiting_time(time,distance,)"
   ]
  },
  {
   "cell_type": "code",
   "execution_count": null,
   "metadata": {
    "collapsed": true
   },
   "outputs": [],
   "source": []
  }
 ],
 "metadata": {
  "kernelspec": {
   "display_name": "Python (jennyenv)",
   "language": "python",
   "name": "jennyenv"
  },
  "language_info": {
   "codemirror_mode": {
    "name": "ipython",
    "version": 3
   },
   "file_extension": ".py",
   "mimetype": "text/x-python",
   "name": "python",
   "nbconvert_exporter": "python",
   "pygments_lexer": "ipython3",
   "version": "3.8.18"
  }
 },
 "nbformat": 4,
 "nbformat_minor": 2
}
