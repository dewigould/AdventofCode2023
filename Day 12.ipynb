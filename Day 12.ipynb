{
 "cells": [
  {
   "cell_type": "code",
   "execution_count": 1,
   "metadata": {
    "collapsed": true
   },
   "outputs": [],
   "source": [
    "import itertools\n",
    "from functools import reduce\n",
    "from collections import Counter\n",
    "import re\n",
    "import math"
   ]
  },
  {
   "cell_type": "code",
   "execution_count": 2,
   "metadata": {
    "collapsed": true
   },
   "outputs": [],
   "source": [
    "with open('day12test.txt') as f:\n",
    "    lines = [line for line in f]   \n",
    "    "
   ]
  },
  {
   "cell_type": "code",
   "execution_count": 10,
   "metadata": {
    "collapsed": true
   },
   "outputs": [],
   "source": [
    "part_two = False\n",
    "numbers = []\n",
    "data = []\n",
    "for line in lines:\n",
    "    numbers_to_append = [int(i) for i in line.split(\" \")[-1].split(\",\")]    \n",
    "    other_shit_to_append = line.split(\" \")[0]\n",
    "    \n",
    "    if part_two:\n",
    "        numbers.append(numbers_to_append*5)\n",
    "        new_shit = other_shit_to_append\n",
    "        for i in range(4):\n",
    "            new_shit += \"?\" + other_shit_to_append\n",
    "        data.append(new_shit)\n",
    "    else:\n",
    "        numbers.append(numbers_to_append)\n",
    "        data.append(other_shit_to_append)\n",
    "        "
   ]
  },
  {
   "cell_type": "code",
   "execution_count": null,
   "metadata": {
    "collapsed": true
   },
   "outputs": [],
   "source": []
  },
  {
   "cell_type": "code",
   "execution_count": 11,
   "metadata": {
    "collapsed": true
   },
   "outputs": [],
   "source": [
    "def find_question_marks(string):\n",
    "    q_marks = []\n",
    "    for i in range(len(string)):\n",
    "        if string[i] == \"?\":\n",
    "            q_marks.append(i)\n",
    "    return(q_marks)"
   ]
  },
  {
   "cell_type": "code",
   "execution_count": 12,
   "metadata": {
    "collapsed": true
   },
   "outputs": [],
   "source": [
    "def all_subsets(input_list):\n",
    "    output = []\n",
    "    for i in range(len(input_list)):\n",
    "        output.append(list(itertools.combinations(input_list,i)))\n",
    "        \n",
    "    final_output = []\n",
    "    for i in output:\n",
    "        for j in i:\n",
    "            final_output.append(list(j))\n",
    "    return final_output"
   ]
  },
  {
   "cell_type": "code",
   "execution_count": 13,
   "metadata": {
    "collapsed": true
   },
   "outputs": [],
   "source": [
    "def replace_with_q(input_string,q):\n",
    "    string = \"\"\n",
    "    for i in range(len(input_string)):\n",
    "        if i in q:\n",
    "            string = string+ \"#\"\n",
    "        else:\n",
    "            string = string + input_string[i]\n",
    "    return(string)"
   ]
  },
  {
   "cell_type": "code",
   "execution_count": 14,
   "metadata": {
    "collapsed": true
   },
   "outputs": [],
   "source": [
    "def count_hashes(input_string):\n",
    "    counter = Counter(input_string)\n",
    "    if \"#\" in counter.keys():\n",
    "        return counter[\"#\"]\n",
    "    else:\n",
    "        return 0\n",
    "\n",
    "def check_if_valid(input_string,numbers):\n",
    "    split = input_string.split(\".\")\n",
    "    final_split = []\n",
    "    for s in split:\n",
    "        new = list(filter(None, re.split(\"[?]\", s)))\n",
    "        for n in new:\n",
    "            final_split.append(n)\n",
    "    \n",
    "    hash_count = []\n",
    "    for i in final_split:\n",
    "        hash_count.append(count_hashes(i))\n",
    "    if 0 in hash_count:\n",
    "        hash_count.remove(0)\n",
    "    if hash_count == numbers:\n",
    "        return True\n",
    "    else:\n",
    "        return False"
   ]
  },
  {
   "cell_type": "code",
   "execution_count": 15,
   "metadata": {
    "collapsed": true
   },
   "outputs": [],
   "source": [
    "def number_configs(numbers,input_string):\n",
    "    q_marks = find_question_marks(input_string)\n",
    "    required_num = sum(numbers)-count_hashes(input_string)\n",
    "    options = itertools.combinations(q_marks,required_num)\n",
    "    options = [list(i) for i in options]\n",
    "    count = 0\n",
    "    for option in options:\n",
    "        updated = replace_with_q(input_string,option)\n",
    "        if check_if_valid(updated,numbers):\n",
    "            count +=1\n",
    "    return count\n"
   ]
  },
  {
   "cell_type": "code",
   "execution_count": 16,
   "metadata": {},
   "outputs": [
    {
     "name": "stdout",
     "output_type": "stream",
     "text": [
      "0 1\n",
      "1 4\n",
      "2 1\n",
      "3 1\n",
      "4 4\n",
      "5 10\n"
     ]
    }
   ],
   "source": [
    "c=0\n",
    "for i in range(len(numbers)):\n",
    "    answer = number_configs(numbers[i],data[i])\n",
    "    print(i,answer)\n",
    "    c+= answer"
   ]
  },
  {
   "cell_type": "code",
   "execution_count": 17,
   "metadata": {},
   "outputs": [
    {
     "data": {
      "text/plain": [
       "21"
      ]
     },
     "execution_count": 17,
     "metadata": {},
     "output_type": "execute_result"
    }
   ],
   "source": [
    "c"
   ]
  },
  {
   "cell_type": "code",
   "execution_count": null,
   "metadata": {
    "collapsed": true
   },
   "outputs": [],
   "source": []
  },
  {
   "cell_type": "code",
   "execution_count": 56,
   "metadata": {},
   "outputs": [],
   "source": [
    "number_input = numbers[0]\n",
    "data_input = data[0].split(\".\")\n",
    "data_input = [i for i in data_input if i!='']\n",
    "data_output = data_input.copy()"
   ]
  },
  {
   "cell_type": "code",
   "execution_count": 68,
   "metadata": {},
   "outputs": [],
   "source": [
    "from itertools import groupby\n",
    "\n",
    "def split_string(s):\n",
    "    result = [''.join(group) for key, group in groupby(s)]\n",
    "    return result"
   ]
  },
  {
   "cell_type": "code",
   "execution_count": null,
   "metadata": {
    "collapsed": true
   },
   "outputs": [],
   "source": []
  },
  {
   "cell_type": "code",
   "execution_count": 60,
   "metadata": {},
   "outputs": [
    {
     "data": {
      "text/plain": [
       "['???', '###']"
      ]
     },
     "execution_count": 60,
     "metadata": {},
     "output_type": "execute_result"
    }
   ],
   "source": [
    "start = data_input\n",
    "start"
   ]
  },
  {
   "cell_type": "code",
   "execution_count": 61,
   "metadata": {
    "collapsed": true
   },
   "outputs": [],
   "source": [
    "answer = ['#'*i for i in number_input]\n",
    "answer"
   ]
  },
  {
   "cell_type": "code",
   "execution_count": 69,
   "metadata": {
    "collapsed": true
   },
   "outputs": [],
   "source": [
    "def replace_ques_with_hash(string_input,numbers):\n",
    "    string = \"\"\n",
    "    for j in range(len(string_input)):\n",
    "        if j in numbers:\n",
    "            string += '#'\n",
    "        else:\n",
    "            string += string_input[j]\n",
    "    return(string)"
   ]
  },
  {
   "cell_type": "code",
   "execution_count": 76,
   "metadata": {},
   "outputs": [
    {
     "name": "stdout",
     "output_type": "stream",
     "text": [
      "1\n",
      "yes ['#', '??', '###']\n",
      "[['#', '??'], ['?', '#', '?'], ['??', '#']]\n"
     ]
    }
   ],
   "source": [
    "#while start[0] != answer[0]:\n",
    "\n",
    "num_q = len(answer[0])-count_hashes(start[0])\n",
    "print(num_q)\n",
    "if num_q >0:\n",
    "    pos = list(itertools.combinations(find_question_marks(start[0]),num_q))\n",
    "    pos = [list(i) for i in pos]\n",
    "    strings = [replace_ques_with_hash(start[0],i) for i in pos]\n",
    "    split_strings = [split_string(i) for i in strings]\n",
    "        \n",
    "    for k in split_strings:\n",
    "        if k[0] == answer[0]:\n",
    "            print(\"yes\", k+start[1:])\n",
    "            \n",
    "        \n",
    "    print(split_strings)\n",
    "        \n",
    "        \n"
   ]
  },
  {
   "cell_type": "code",
   "execution_count": null,
   "metadata": {
    "collapsed": true
   },
   "outputs": [],
   "source": [
    "# Fix first entry"
   ]
  },
  {
   "cell_type": "code",
   "execution_count": null,
   "metadata": {
    "collapsed": true
   },
   "outputs": [],
   "source": []
  }
 ],
 "metadata": {
  "kernelspec": {
   "display_name": "Python (jennyenv)",
   "language": "python",
   "name": "jennyenv"
  },
  "language_info": {
   "codemirror_mode": {
    "name": "ipython",
    "version": 3
   },
   "file_extension": ".py",
   "mimetype": "text/x-python",
   "name": "python",
   "nbconvert_exporter": "python",
   "pygments_lexer": "ipython3",
   "version": "3.8.18"
  }
 },
 "nbformat": 4,
 "nbformat_minor": 2
}
