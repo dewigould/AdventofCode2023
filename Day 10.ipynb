{
 "cells": [
  {
   "cell_type": "code",
   "execution_count": 19,
   "metadata": {
    "collapsed": true
   },
   "outputs": [],
   "source": [
    "import numpy as np"
   ]
  },
  {
   "cell_type": "code",
   "execution_count": 20,
   "metadata": {
    "collapsed": true
   },
   "outputs": [],
   "source": [
    "with open('day10.txt') as f:\n",
    "    lines = [line for line in f]   "
   ]
  },
  {
   "cell_type": "code",
   "execution_count": 21,
   "metadata": {
    "collapsed": true
   },
   "outputs": [],
   "source": [
    "matrix = []"
   ]
  },
  {
   "cell_type": "code",
   "execution_count": 22,
   "metadata": {
    "collapsed": true
   },
   "outputs": [],
   "source": [
    "for line in lines:\n",
    "    matrix.append([i for i in line[:-1]])"
   ]
  },
  {
   "cell_type": "code",
   "execution_count": 23,
   "metadata": {
    "collapsed": true
   },
   "outputs": [],
   "source": [
    "# Find starting pos\n",
    "#starting_pos =(86,89)\n",
    "starting_pos = (1,1)"
   ]
  },
  {
   "cell_type": "code",
   "execution_count": 24,
   "metadata": {},
   "outputs": [
    {
     "data": {
      "text/plain": [
       "'S'"
      ]
     },
     "execution_count": 24,
     "metadata": {},
     "output_type": "execute_result"
    }
   ],
   "source": [
    "matrix[starting_pos[0]][starting_pos[1]]"
   ]
  },
  {
   "cell_type": "code",
   "execution_count": 25,
   "metadata": {
    "collapsed": true
   },
   "outputs": [],
   "source": [
    "initial_move_one = (0,1)"
   ]
  },
  {
   "cell_type": "code",
   "execution_count": 26,
   "metadata": {
    "collapsed": true
   },
   "outputs": [],
   "source": [
    "def move(pos,move):\n",
    "    return (pos[0]+move[0],pos[1]+move[1])\n",
    "\n",
    "# This is roughly how it'll work, but the letters are a bit confusing, because they are multi-directional\n",
    "# depending on which way you come at it.\n",
    "# I think each of these have two options.\n",
    "\n",
    "def convert(input_string):\n",
    "    if input_string == \"-\":    \n",
    "        return [(0,1),(0,-1)]\n",
    "    if input_string == \"|\":\n",
    "        return [(1,0),(-1,0)]\n",
    "    if input_string == \"L\":\n",
    "        return [(-1,0),(0,1)]\n",
    "    if input_string == \"F\":\n",
    "        return [(1,0),(0,1)]\n",
    "    if input_string == \"J\":\n",
    "        return [(-1,0),(0,-1)]\n",
    "    if input_string == \"7\":\n",
    "        return [(1,0),(0,-1)]\n",
    "\n",
    "   \n",
    "\n",
    "    \n"
   ]
  },
  {
   "cell_type": "code",
   "execution_count": 27,
   "metadata": {},
   "outputs": [
    {
     "name": "stdout",
     "output_type": "stream",
     "text": [
      "finished\n",
      "length of journey 8\n"
     ]
    }
   ],
   "source": [
    "# Move on\n",
    "pos = move(starting_pos,initial_move_one)\n",
    "journey = [starting_pos,pos]\n",
    "c=0\n",
    "#while pos != starting_pos:\n",
    "while c<100000:\n",
    "    c+=1\n",
    "    steps = convert(matrix[pos[0]][pos[1]])\n",
    "    next_pos = [move(pos,steps[0]),move(pos,steps[1])]\n",
    "    if next_pos[0] not in journey:\n",
    "        journey.append(next_pos[0])\n",
    "        pos = next_pos[0]\n",
    "    elif next_pos[1] not in journey:\n",
    "        journey.append(next_pos[1])\n",
    "        pos = next_pos[1]\n",
    "    else:\n",
    "        print(\"finished\")\n",
    "        break\n",
    "    \n",
    "print(\"length of journey\", len(journey))"
   ]
  },
  {
   "cell_type": "code",
   "execution_count": 28,
   "metadata": {},
   "outputs": [
    {
     "data": {
      "text/plain": [
       "array([[0., 0., 0., 0., 0., 0.],\n",
       "       [0., 0., 0., 0., 0., 0.],\n",
       "       [0., 0., 0., 0., 0., 0.],\n",
       "       [0., 0., 0., 0., 0., 0.],\n",
       "       [0., 0., 0., 0., 0., 0.]])"
      ]
     },
     "execution_count": 28,
     "metadata": {},
     "output_type": "execute_result"
    }
   ],
   "source": [
    "matrix = np.zeros((len(lines),len(lines[0])))\n",
    "matrix"
   ]
  },
  {
   "cell_type": "code",
   "execution_count": 29,
   "metadata": {
    "collapsed": true
   },
   "outputs": [],
   "source": [
    "for step in journey:\n",
    "    matrix[step[0]][step[1]]=1"
   ]
  },
  {
   "cell_type": "code",
   "execution_count": 30,
   "metadata": {
    "collapsed": true
   },
   "outputs": [],
   "source": [
    "matrix=matrix.astype(int)"
   ]
  },
  {
   "cell_type": "code",
   "execution_count": 31,
   "metadata": {},
   "outputs": [
    {
     "data": {
      "text/plain": [
       "array([[0, 0, 0, 0, 0, 0],\n",
       "       [0, 1, 1, 1, 0, 0],\n",
       "       [0, 1, 0, 1, 0, 0],\n",
       "       [0, 1, 1, 1, 0, 0],\n",
       "       [0, 0, 0, 0, 0, 0]])"
      ]
     },
     "execution_count": 31,
     "metadata": {},
     "output_type": "execute_result"
    }
   ],
   "source": [
    "matrix"
   ]
  },
  {
   "cell_type": "code",
   "execution_count": 32,
   "metadata": {
    "collapsed": true
   },
   "outputs": [],
   "source": [
    "# Need to find the 0's enclosed in the ones.\n",
    "# Shoelace formula!\n",
    "# We can find if a point is interior by finding rays to the outside, if it intersects an even no. times:\n",
    "# https://en.wikipedia.org/wiki/Point_in_polygon#:~:text=One%20simple%20way%20of%20finding,an%20even%20number%20of%20times.\n",
    "\n",
    "\n",
    "# Or we have number of exterior points, then can compute Area using Gauss determinants\n",
    "# Then this formula relates A to E to num interior points: https://en.wikipedia.org/wiki/Pick%27s_theorem\n"
   ]
  },
  {
   "cell_type": "code",
   "execution_count": 33,
   "metadata": {},
   "outputs": [
    {
     "name": "stdout",
     "output_type": "stream",
     "text": [
      "[(1, 1), (1, 2), (1, 3), (2, 3), (3, 3), (3, 2), (3, 1), (2, 1), (1, 1)]\n",
      "Area of the polygon: 4.0\n",
      "Number of exterior points: 8\n",
      "Number of exterior points: 1.0\n"
     ]
    }
   ],
   "source": [
    "def shoelace_formula(vertices):\n",
    "    #vertices = [(i[1],i[0]) for i in vertices]\n",
    "    n = len(vertices)\n",
    "    if n < 3:\n",
    "        raise ValueError(\"A polygon must have at least three vertices.\")\n",
    "\n",
    "    # Ensure the last vertex is the same as the first one to close the loop\n",
    "    if vertices[0] != vertices[-1]:\n",
    "        vertices.append(vertices[0])\n",
    "\n",
    "    area = 0\n",
    "    for i in range(n-1):\n",
    "        area += (vertices[i][0] * vertices[i + 1][1] - vertices[i + 1][0] * vertices[i][1])\n",
    "\n",
    "    area = abs(area) / 2.0\n",
    "    return area\n",
    "\n",
    "\n",
    "\n",
    "\n",
    "# Example usage:\n",
    "polygon_vertices = journey + [journey[0]]\n",
    "#print(polygon_vertices)\n",
    "area = shoelace_formula(polygon_vertices)\n",
    "print(f\"Area of the polygon: {area}\")\n",
    "num_exterior = len(journey)\n",
    "print(f\"Number of exterior points: {num_exterior}\")\n",
    "num_interior = area+1-(num_exterior/2)\n",
    "print(f\"Number of exterior points: {num_interior}\")"
   ]
  },
  {
   "cell_type": "code",
   "execution_count": 34,
   "metadata": {
    "collapsed": true
   },
   "outputs": [],
   "source": [
    "# The shoelace formula isn't working for this example on Wiki: try the two by two determinant approach instead"
   ]
  }
 ],
 "metadata": {
  "kernelspec": {
   "display_name": "Python (jennyenv)",
   "language": "python",
   "name": "jennyenv"
  },
  "language_info": {
   "codemirror_mode": {
    "name": "ipython",
    "version": 3
   },
   "file_extension": ".py",
   "mimetype": "text/x-python",
   "name": "python",
   "nbconvert_exporter": "python",
   "pygments_lexer": "ipython3",
   "version": "3.8.18"
  }
 },
 "nbformat": 4,
 "nbformat_minor": 2
}
