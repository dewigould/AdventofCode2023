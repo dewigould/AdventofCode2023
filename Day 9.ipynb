{
 "cells": [
  {
   "cell_type": "code",
   "execution_count": 380,
   "metadata": {},
   "outputs": [
    {
     "name": "stdout",
     "output_type": "stream",
     "text": [
      "1955513104\n",
      "1131\n"
     ]
    }
   ],
   "source": [
    "l = [[int(i) for i in s.split()] for s in open('day9.txt').read().split('\\n') if s.strip()]\n",
    "\n",
    "def n(l):\n",
    "\tif sum(i != 0 for i in l) == 0:\n",
    "\t\treturn 0\n",
    "\tm = []\n",
    "\tfor i in range(len(l)-1):\n",
    "\t\tm.append(l[i+1]-l[i])\n",
    "\treturn l[-1] + n(m)\n",
    "\n",
    "print(sum(n(i) for i in l))\n",
    "print(sum(n(i[::-1]) for i in l))\n"
   ]
  },
  {
   "cell_type": "code",
   "execution_count": null,
   "metadata": {
    "collapsed": true
   },
   "outputs": [],
   "source": []
  }
 ],
 "metadata": {
  "kernelspec": {
   "display_name": "Python (jennyenv)",
   "language": "python",
   "name": "jennyenv"
  },
  "language_info": {
   "codemirror_mode": {
    "name": "ipython",
    "version": 3
   },
   "file_extension": ".py",
   "mimetype": "text/x-python",
   "name": "python",
   "nbconvert_exporter": "python",
   "pygments_lexer": "ipython3",
   "version": "3.8.18"
  }
 },
 "nbformat": 4,
 "nbformat_minor": 2
}
