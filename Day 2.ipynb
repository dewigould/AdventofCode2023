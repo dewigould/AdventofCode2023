{
 "cells": [
  {
   "cell_type": "markdown",
   "metadata": {},
   "source": [
    "## Day 2"
   ]
  },
  {
   "cell_type": "code",
   "execution_count": 62,
   "metadata": {
    "collapsed": true
   },
   "outputs": [],
   "source": [
    "import re"
   ]
  },
  {
   "cell_type": "code",
   "execution_count": 71,
   "metadata": {
    "collapsed": true
   },
   "outputs": [],
   "source": [
    "with open('day2.txt') as f:\n",
    "    lines = [line for line in f]   "
   ]
  },
  {
   "cell_type": "code",
   "execution_count": 72,
   "metadata": {
    "collapsed": true
   },
   "outputs": [],
   "source": [
    "ball_limits = {'red':12,'blue':14,'green':13}\n"
   ]
  },
  {
   "cell_type": "code",
   "execution_count": 73,
   "metadata": {},
   "outputs": [],
   "source": [
    "def get_balls_per_draw(string_input):\n",
    "    balls = {'red':0,'blue':0,'green':0}\n",
    "    for target in balls.keys():\n",
    "        pattern = re.compile(r'(\\d+)\\s+' + re.escape(target))\n",
    "        match = pattern.search(string_input)\n",
    "        if match != None:\n",
    "            balls[target]=int(match.group(1))\n",
    "    return balls\n",
    "\n",
    "def find_if_over_limit(ball_count):\n",
    "    if ball_count['red']>ball_limits['red']:\n",
    "        return True\n",
    "    if ball_count['green']>ball_limits['green']:\n",
    "        return True\n",
    "    if ball_count['blue']>ball_limits['blue']:\n",
    "        return True    \n",
    "    else:\n",
    "        return False\n",
    "    "
   ]
  },
  {
   "cell_type": "code",
   "execution_count": 74,
   "metadata": {},
   "outputs": [],
   "source": [
    "game = 1\n",
    "count = 0\n",
    "for line in lines:\n",
    "    \n",
    "    not_allowed=False\n",
    "    first_split = re.split(r'[:;]', line)\n",
    "    draws = first_split[1:]\n",
    "    ball_counts = []\n",
    "    for draw in draws:\n",
    "        ball_counts.append(get_balls_per_draw(draw))\n",
    "    for ball_count in ball_counts:\n",
    "        if find_if_over_limit(ball_count):\n",
    "            not_allowed = True\n",
    "        \n",
    "    if not_allowed == False:\n",
    "        count+=game\n",
    "        \n",
    "    game+=1\n",
    "    "
   ]
  },
  {
   "cell_type": "code",
   "execution_count": 75,
   "metadata": {},
   "outputs": [
    {
     "data": {
      "text/plain": [
       "2600"
      ]
     },
     "execution_count": 75,
     "metadata": {},
     "output_type": "execute_result"
    }
   ],
   "source": [
    "count"
   ]
  },
  {
   "cell_type": "code",
   "execution_count": null,
   "metadata": {
    "collapsed": true
   },
   "outputs": [],
   "source": []
  },
  {
   "cell_type": "markdown",
   "metadata": {},
   "source": [
    "## Part 2"
   ]
  },
  {
   "cell_type": "code",
   "execution_count": 76,
   "metadata": {
    "collapsed": true
   },
   "outputs": [],
   "source": [
    "def find_min_required_num_balls(ball_counts):\n",
    "    balls = {'red':0,'blue':0,'green':0}\n",
    "    for ball_count in ball_counts:\n",
    "        if ball_count['red']>balls['red']:\n",
    "            balls['red'] = ball_count['red']\n",
    "        if ball_count['green']>balls['green']:\n",
    "            balls['green'] = ball_count['green']        \n",
    "        if ball_count['blue']>balls['blue']:\n",
    "            balls['blue'] = ball_count['blue']\n",
    "    return balls\n",
    "    "
   ]
  },
  {
   "cell_type": "code",
   "execution_count": 77,
   "metadata": {
    "collapsed": true
   },
   "outputs": [],
   "source": [
    "count = 0\n",
    "for line in lines:\n",
    "    \n",
    "    not_allowed=False\n",
    "    first_split = re.split(r'[:;]', line)\n",
    "    draws = first_split[1:]\n",
    "    ball_counts = []\n",
    "    for draw in draws:\n",
    "        ball_counts.append(get_balls_per_draw(draw))\n",
    "        \n",
    "    min_balls_required = find_min_required_num_balls(ball_counts)    \n",
    "    \n",
    "        \n",
    "    count += min_balls_required['red']*min_balls_required['blue']*min_balls_required['green']"
   ]
  },
  {
   "cell_type": "code",
   "execution_count": 78,
   "metadata": {},
   "outputs": [
    {
     "data": {
      "text/plain": [
       "86036"
      ]
     },
     "execution_count": 78,
     "metadata": {},
     "output_type": "execute_result"
    }
   ],
   "source": [
    "count"
   ]
  },
  {
   "cell_type": "code",
   "execution_count": null,
   "metadata": {
    "collapsed": true
   },
   "outputs": [],
   "source": []
  }
 ],
 "metadata": {
  "kernelspec": {
   "display_name": "Python (jennyenv)",
   "language": "python",
   "name": "jennyenv"
  },
  "language_info": {
   "codemirror_mode": {
    "name": "ipython",
    "version": 3
   },
   "file_extension": ".py",
   "mimetype": "text/x-python",
   "name": "python",
   "nbconvert_exporter": "python",
   "pygments_lexer": "ipython3",
   "version": "3.8.18"
  }
 },
 "nbformat": 4,
 "nbformat_minor": 2
}
